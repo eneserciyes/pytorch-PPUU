{
 "cells": [
  {
   "cell_type": "code",
   "execution_count": 1,
   "id": "f914bbbf-5d20-4549-8aa5-a1db9a05218e",
   "metadata": {},
   "outputs": [],
   "source": [
    "%load_ext autoreload\n",
    "%autoreload 2"
   ]
  },
  {
   "cell_type": "code",
   "execution_count": 2,
   "id": "25ed5f8e-a43b-4f02-92fb-d512bd15517a",
   "metadata": {},
   "outputs": [],
   "source": [
    "import os\n",
    "os.chdir(\"..\")"
   ]
  },
  {
   "cell_type": "code",
   "execution_count": 5,
   "id": "ba62d076-8bea-4ba5-bae6-19bddd45dac7",
   "metadata": {},
   "outputs": [],
   "source": [
    "import math\n",
    "from collections import OrderedDict\n",
    "\n",
    "import numpy\n",
    "import os\n",
    "import ipdb\n",
    "import random\n",
    "import torch\n",
    "import torch.optim as optim\n",
    "from os import path\n",
    "\n",
    "import wandb\n",
    "\n",
    "import planning\n",
    "import utils\n",
    "from dataloader import DataLoader"
   ]
  },
  {
   "cell_type": "code",
   "execution_count": 11,
   "id": "b3d9bbc9-8b75-43bb-8875-c0ceb0d0d3db",
   "metadata": {},
   "outputs": [
    {
     "name": "stdout",
     "output_type": "stream",
     "text": [
      "[will save as: models/policy_networks/MPUR-policy-deterministic-model=vae-zdropout=0.5-nfeature=256-bsize=6-npred=30-ureg=0.05-lambdal=0.2-lambdaa=0.0-gamma=0.99-lrtz=0.0-updatez=0-inferz=False-learnedcost=False-seed=1-novalue]\n",
      "Loaded model\n",
      "Policy created\n",
      "Normalization loaded\n",
      "Model setup completed\n",
      "done\n"
     ]
    }
   ],
   "source": [
    "opt = utils.parse_command_line(args=[])\n",
    "opt.model_file = path.join(opt.model_dir, \"policy_networks\", \"MPUR-\" + opt.policy)\n",
    "utils.build_model_file_name(opt)\n",
    "\n",
    "os.system(\"mkdir -p \" + path.join(opt.model_dir, \"policy_networks\"))\n",
    "\n",
    "random.seed(opt.seed)\n",
    "numpy.random.seed(opt.seed)\n",
    "torch.manual_seed(opt.seed)\n",
    "\n",
    "# Define default device\n",
    "opt.device = torch.device(\n",
    "    \"cuda\" if torch.cuda.is_available() and not opt.no_cuda else \"cpu\"\n",
    ")\n",
    "if torch.cuda.is_available() and opt.no_cuda:\n",
    "    print(\n",
    "        \"WARNING: You have a CUDA device, so you should probably run without -no_cuda\"\n",
    "    )\n",
    "\n",
    "# load the model\n",
    "\n",
    "model_path = path.join(opt.model_dir, opt.mfile)\n",
    "if path.exists(model_path):\n",
    "    model = torch.load(model_path)\n",
    "elif path.exists(opt.mfile):\n",
    "    model = torch.load(opt.mfile)\n",
    "else:\n",
    "    raise RuntimeError(f\"couldn't find file {opt.mfile}\")\n",
    "print(\"Loaded model\")\n",
    "if not hasattr(model.encoder, \"n_channels\"):\n",
    "    model.encoder.n_channels = 3\n",
    "\n",
    "if type(model) is dict:\n",
    "    model = model[\"model\"]\n",
    "model.opt.lambda_l = opt.lambda_l  # used by planning.py/compute_uncertainty_batch\n",
    "model.opt.lambda_o = opt.lambda_o  # used by planning.py/compute_uncertainty_batch\n",
    "if opt.value_model != \"\":\n",
    "    value_function = torch.load(\n",
    "        path.join(opt.model_dir, \"value_functions\", opt.value_model)\n",
    "    ).to(opt.device)\n",
    "    model.value_function = value_function\n",
    "\n",
    "# Create policy\n",
    "model.create_policy_net(opt)\n",
    "optimizer = optim.Adam(model.policy_net.parameters(), opt.lrt)  # POLICY optimiser ONLY!\n",
    "print(\"Policy created\")\n",
    "# Load normalisation stats\n",
    "stats = torch.load(\"traffic-data/state-action-cost/data_i80_v0/data_stats.pth\")\n",
    "model.stats = stats  # used by planning.py/compute_uncertainty_batch\n",
    "print(\"Normalization loaded\")\n",
    "if \"ten\" in opt.mfile:\n",
    "    p_z_file = opt.model_dir + opt.mfile + \".pz\"\n",
    "    p_z = torch.load(p_z_file)\n",
    "    model.p_z = p_z\n",
    "\n",
    "# Send to GPU if possible\n",
    "model.to(opt.device)\n",
    "model.policy_net.stats_d = {}\n",
    "for k, v in stats.items():\n",
    "    if isinstance(v, torch.Tensor):\n",
    "        model.policy_net.stats_d[k] = v.to(opt.device)\n",
    "if opt.learned_cost:\n",
    "    print(\"[loading cost regressor]\")\n",
    "    model.cost = torch.load(path.join(opt.model_dir, opt.mfile + \".cost.model\"))[\n",
    "        \"model\"\n",
    "    ]\n",
    "print(\"Model setup completed\")\n",
    "model.train()\n",
    "model.opt.u_hinge = opt.u_hinge\n",
    "planning.estimate_uncertainty_stats(model, dataloader, n_batches=50, npred=opt.npred)\n",
    "print(\"Uncertainty stats estimated\")\n",
    "model.eval()\n",
    "print(\"done\")"
   ]
  },
  {
   "cell_type": "code",
   "execution_count": null,
   "id": "f787b6c8-e980-49af-a725-232fde6a5cc5",
   "metadata": {},
   "outputs": [],
   "source": [
    "dataloader = DataLoader(None, opt, opt.dataset)\n",
    "print(\"Data loaded\")"
   ]
  },
  {
   "cell_type": "markdown",
   "id": "1c38c1e4-0965-4832-bab1-f25d1e46c4c4",
   "metadata": {},
   "source": [
    "### Train step"
   ]
  },
  {
   "cell_type": "code",
   "execution_count": 16,
   "id": "ea56284a-67c9-45f8-a189-49d8f4477cbd",
   "metadata": {},
   "outputs": [
    {
     "name": "stdout",
     "output_type": "stream",
     "text": [
      "tensor(0.4407, device='cuda:0', grad_fn=<AddBackward0>)\n"
     ]
    }
   ],
   "source": [
    "def step(what, nbatches, npred):\n",
    "    train = True if what == \"train\" else False\n",
    "    model.train()\n",
    "    model.policy_net.train()\n",
    "    n_updates, grad_norm = 0, 0\n",
    "    total_losses = dict(\n",
    "        proximity=0,\n",
    "        uncertainty=0,\n",
    "        lane=0,\n",
    "        offroad=0,\n",
    "        action=0,\n",
    "        policy=0,\n",
    "    )\n",
    "    inputs, actions, targets, ids, car_sizes = dataloader.get_batch_fm(what, npred)\n",
    "    pred, actions = planning.train_policy_net_mpur(\n",
    "            model,\n",
    "            inputs,\n",
    "            targets,\n",
    "            car_sizes,\n",
    "            n_models=10,\n",
    "            lrt_z=opt.lrt_z,\n",
    "            n_updates_z=opt.z_updates,\n",
    "            infer_z=opt.infer_z,\n",
    "        )\n",
    "    pred[\"policy\"] = (\n",
    "        pred[\"proximity\"]\n",
    "        + opt.u_reg * pred[\"uncertainty\"]\n",
    "        + opt.lambda_l * pred[\"lane\"]\n",
    "        + opt.lambda_a * pred[\"action\"]\n",
    "        + opt.lambda_o * pred[\"offroad\"]\n",
    "    )\n",
    "\n",
    "    if not math.isnan(pred[\"policy\"].item()):\n",
    "        if train:\n",
    "            optimizer.zero_grad()\n",
    "            pred[\"policy\"].backward()  # back-propagation through time!\n",
    "            print(pred[\"policy\"])\n",
    "            grad_norm += utils.grad_norm(model.policy_net).item()\n",
    "            torch.nn.utils.clip_grad_norm_(\n",
    "                model.policy_net.parameters(), opt.grad_clip\n",
    "            )\n",
    "            optimizer.step()\n",
    "        for loss in total_losses:\n",
    "            total_losses[loss] += pred[loss].item()\n",
    "        n_updates += 1\n",
    "    else:\n",
    "        print(\"warning, NaN\")  # Oh no... Something got quite fucked up!\n",
    "        ipdb.set_trace()\n",
    "step(\"train\", opt.epoch_size, opt.npred)"
   ]
  },
  {
   "cell_type": "code",
   "execution_count": null,
   "id": "d36b3344-7e45-45b0-8f9b-920d29071def",
   "metadata": {},
   "outputs": [],
   "source": []
  }
 ],
 "metadata": {
  "kernelspec": {
   "display_name": "Python 3 (ipykernel)",
   "language": "python",
   "name": "python3"
  },
  "language_info": {
   "codemirror_mode": {
    "name": "ipython",
    "version": 3
   },
   "file_extension": ".py",
   "mimetype": "text/x-python",
   "name": "python",
   "nbconvert_exporter": "python",
   "pygments_lexer": "ipython3",
   "version": "3.8.13"
  }
 },
 "nbformat": 4,
 "nbformat_minor": 5
}
