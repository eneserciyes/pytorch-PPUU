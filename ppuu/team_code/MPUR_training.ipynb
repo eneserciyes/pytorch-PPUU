{
 "cells": [
  {
   "cell_type": "code",
   "execution_count": 1,
   "id": "f914bbbf-5d20-4549-8aa5-a1db9a05218e",
   "metadata": {
    "pycharm": {
     "name": "#%%\n"
    }
   },
   "outputs": [],
   "source": [
    "%load_ext autoreload\n",
    "%autoreload 2"
   ]
  },
  {
   "cell_type": "code",
   "execution_count": 2,
   "id": "25ed5f8e-a43b-4f02-92fb-d512bd15517a",
   "metadata": {
    "pycharm": {
     "name": "#%%\n"
    }
   },
   "outputs": [],
   "source": [
    "import os\n",
    "os.chdir(\"..\")"
   ]
  },
  {
   "cell_type": "code",
   "execution_count": 21,
   "id": "ba62d076-8bea-4ba5-bae6-19bddd45dac7",
   "metadata": {
    "pycharm": {
     "name": "#%%\n"
    }
   },
   "outputs": [],
   "source": [
    "import math\n",
    "from collections import OrderedDict\n",
    "\n",
    "import numpy as np\n",
    "import os\n",
    "import ipdb\n",
    "import random\n",
    "import torch\n",
    "import torch.optim as optim\n",
    "from os import path\n",
    "import tqdm\n",
    "\n",
    "import wandb\n",
    "\n",
    "import planning\n",
    "import utils\n",
    "from dataloader import DataLoader"
   ]
  },
  {
   "cell_type": "code",
   "execution_count": 11,
   "id": "b3d9bbc9-8b75-43bb-8875-c0ceb0d0d3db",
   "metadata": {
    "pycharm": {
     "name": "#%%\n"
    }
   },
   "outputs": [
    {
     "name": "stdout",
     "output_type": "stream",
     "text": [
      "[will save as: /scratch/izar/erciyes/models/policy_networks/MPUR-policy-deterministic-model=vae-zdropout=0.5-nfeature=256-bsize=6-npred=30-ureg=0.05-lambdal=0.2-lambdaa=0.0-gamma=0.99-lrtz=0.0-updatez=0-inferz=False-learnedcost=False-seed=1-novalue]\n"
     ]
    },
    {
     "name": "stderr",
     "output_type": "stream",
     "text": [
      "/home/erciyes/miniconda3/envs/PPUU/lib/python3.8/site-packages/torch/serialization.py:786: SourceChangeWarning: source code of class 'models.FwdCNN_VAE' has changed. you can retrieve the original source code by accessing the object's source attribute or set `torch.nn.Module.dump_patches = True` and use the patch tool to revert the changes.\n",
      "  warnings.warn(msg, SourceChangeWarning)\n",
      "/home/erciyes/miniconda3/envs/PPUU/lib/python3.8/site-packages/torch/serialization.py:786: SourceChangeWarning: source code of class 'models.encoder' has changed. you can retrieve the original source code by accessing the object's source attribute or set `torch.nn.Module.dump_patches = True` and use the patch tool to revert the changes.\n",
      "  warnings.warn(msg, SourceChangeWarning)\n",
      "/home/erciyes/miniconda3/envs/PPUU/lib/python3.8/site-packages/torch/serialization.py:786: SourceChangeWarning: source code of class 'torch.nn.modules.container.Sequential' has changed. you can retrieve the original source code by accessing the object's source attribute or set `torch.nn.Module.dump_patches = True` and use the patch tool to revert the changes.\n",
      "  warnings.warn(msg, SourceChangeWarning)\n",
      "/home/erciyes/miniconda3/envs/PPUU/lib/python3.8/site-packages/torch/serialization.py:786: SourceChangeWarning: source code of class 'torch.nn.modules.conv.Conv2d' has changed. you can retrieve the original source code by accessing the object's source attribute or set `torch.nn.Module.dump_patches = True` and use the patch tool to revert the changes.\n",
      "  warnings.warn(msg, SourceChangeWarning)\n",
      "/home/erciyes/miniconda3/envs/PPUU/lib/python3.8/site-packages/torch/serialization.py:786: SourceChangeWarning: source code of class 'torch.nn.modules.dropout.Dropout2d' has changed. you can retrieve the original source code by accessing the object's source attribute or set `torch.nn.Module.dump_patches = True` and use the patch tool to revert the changes.\n",
      "  warnings.warn(msg, SourceChangeWarning)\n",
      "/home/erciyes/miniconda3/envs/PPUU/lib/python3.8/site-packages/torch/serialization.py:786: SourceChangeWarning: source code of class 'torch.nn.modules.activation.LeakyReLU' has changed. you can retrieve the original source code by accessing the object's source attribute or set `torch.nn.Module.dump_patches = True` and use the patch tool to revert the changes.\n",
      "  warnings.warn(msg, SourceChangeWarning)\n",
      "/home/erciyes/miniconda3/envs/PPUU/lib/python3.8/site-packages/torch/serialization.py:786: SourceChangeWarning: source code of class 'torch.nn.modules.linear.Linear' has changed. you can retrieve the original source code by accessing the object's source attribute or set `torch.nn.Module.dump_patches = True` and use the patch tool to revert the changes.\n",
      "  warnings.warn(msg, SourceChangeWarning)\n",
      "/home/erciyes/miniconda3/envs/PPUU/lib/python3.8/site-packages/torch/serialization.py:786: SourceChangeWarning: source code of class 'torch.nn.modules.dropout.Dropout' has changed. you can retrieve the original source code by accessing the object's source attribute or set `torch.nn.Module.dump_patches = True` and use the patch tool to revert the changes.\n",
      "  warnings.warn(msg, SourceChangeWarning)\n",
      "/home/erciyes/miniconda3/envs/PPUU/lib/python3.8/site-packages/torch/serialization.py:786: SourceChangeWarning: source code of class 'models.decoder' has changed. you can retrieve the original source code by accessing the object's source attribute or set `torch.nn.Module.dump_patches = True` and use the patch tool to revert the changes.\n",
      "  warnings.warn(msg, SourceChangeWarning)\n",
      "/home/erciyes/miniconda3/envs/PPUU/lib/python3.8/site-packages/torch/serialization.py:786: SourceChangeWarning: source code of class 'torch.nn.modules.conv.ConvTranspose2d' has changed. you can retrieve the original source code by accessing the object's source attribute or set `torch.nn.Module.dump_patches = True` and use the patch tool to revert the changes.\n",
      "  warnings.warn(msg, SourceChangeWarning)\n",
      "/home/erciyes/miniconda3/envs/PPUU/lib/python3.8/site-packages/torch/serialization.py:786: SourceChangeWarning: source code of class 'models.u_network' has changed. you can retrieve the original source code by accessing the object's source attribute or set `torch.nn.Module.dump_patches = True` and use the patch tool to revert the changes.\n",
      "  warnings.warn(msg, SourceChangeWarning)\n"
     ]
    },
    {
     "name": "stdout",
     "output_type": "stream",
     "text": [
      "Loaded model\n",
      "Policy created\n",
      "Normalization loaded\n",
      "Model setup completed\n",
      "[loading data shard: traffic-data/state-action-cost/data_i80_v0/trajectories-0400-0415/all_data.pth]\n",
      "[loading data shard: traffic-data/state-action-cost/data_i80_v0/trajectories-0500-0515/all_data.pth]\n",
      "[loading data shard: traffic-data/state-action-cost/data_i80_v0/trajectories-0515-0530/all_data.pth]\n",
      "Number of episodes: 4829\n",
      "[loading data splits: traffic-data/state-action-cost/data_i80_v0/splits.pth]\n",
      "[loading data stats: traffic-data/state-action-cost/data_i80_v0/data_stats_with_diff.pth]\n",
      "[loading car sizes: traffic-data/state-action-cost/data_i80_v0/car_sizes.pth]\n",
      "Data loaded\n",
      "[estimating normal uncertainty ranges: 100.0%]\n",
      "Uncertainty stats estimated\n",
      "done\n"
     ]
    }
   ],
   "source": [
    "opt = utils.parse_command_line(args=[\"-model_dir\", \"/scratch/izar/erciyes/models\"])\n",
    "opt.model_file = path.join(opt.model_dir, \"policy_networks\", \"MPUR-\" + opt.policy)\n",
    "utils.build_model_file_name(opt)\n",
    "\n",
    "os.system(\"mkdir -p \" + path.join(opt.model_dir, \"policy_networks\"))\n",
    "\n",
    "random.seed(opt.seed)\n",
    "np.random.seed(opt.seed)\n",
    "torch.manual_seed(opt.seed)\n",
    "\n",
    "# Define default device\n",
    "opt.device = torch.device(\n",
    "    \"cuda\" if torch.cuda.is_available() and not opt.no_cuda else \"cpu\"\n",
    ")\n",
    "if torch.cuda.is_available() and opt.no_cuda:\n",
    "    print(\n",
    "        \"WARNING: You have a CUDA device, so you should probably run without -no_cuda\"\n",
    "    )\n",
    "\n",
    "# load the model\n",
    "\n",
    "model_path = path.join(opt.model_dir, opt.mfile)\n",
    "if path.exists(model_path):\n",
    "    model = torch.load(model_path)\n",
    "elif path.exists(opt.mfile):\n",
    "    model = torch.load(opt.mfile)\n",
    "else:\n",
    "    raise RuntimeError(f\"couldn't find file {opt.mfile}\")\n",
    "print(\"Loaded model\")\n",
    "if not hasattr(model.encoder, \"n_channels\"):\n",
    "    model.encoder.n_channels = 3\n",
    "\n",
    "if type(model) is dict:\n",
    "    model = model[\"model\"]\n",
    "model.opt.lambda_l = opt.lambda_l  # used by planning.py/compute_uncertainty_batch\n",
    "model.opt.lambda_o = opt.lambda_o  # used by planning.py/compute_uncertainty_batch\n",
    "if opt.value_model != \"\":\n",
    "    value_function = torch.load(\n",
    "        path.join(opt.model_dir, \"value_functions\", opt.value_model)\n",
    "    ).to(opt.device)\n",
    "    model.value_function = value_function\n",
    "\n",
    "# Create policy\n",
    "model.create_policy_net(opt)\n",
    "optimizer = optim.Adam(model.policy_net.parameters(), opt.lrt)  # POLICY optimiser ONLY!\n",
    "print(\"Policy created\")\n",
    "# Load normalisation stats\n",
    "stats = torch.load(\"traffic-data/state-action-cost/data_i80_v0/data_stats.pth\")\n",
    "model.stats = stats  # used by planning.py/compute_uncertainty_batch\n",
    "print(\"Normalization loaded\")\n",
    "if \"ten\" in opt.mfile:\n",
    "    p_z_file = opt.model_dir + opt.mfile + \".pz\"\n",
    "    p_z = torch.load(p_z_file)\n",
    "    model.p_z = p_z\n",
    "\n",
    "# Send to GPU if possible\n",
    "model.to(opt.device)\n",
    "model.policy_net.stats_d = {}\n",
    "for k, v in stats.items():\n",
    "    if isinstance(v, torch.Tensor):\n",
    "        model.policy_net.stats_d[k] = v.to(opt.device)\n",
    "if opt.learned_cost:\n",
    "    print(\"[loading cost regressor]\")\n",
    "    model.cost = torch.load(path.join(opt.model_dir, opt.mfile + \".cost.model\"))[\n",
    "        \"model\"\n",
    "    ]\n",
    "print(\"Model setup completed\")\n",
    "model.train()\n",
    "model.opt.u_hinge = opt.u_hinge\n",
    "dataloader = DataLoader(None, opt, opt.dataset)\n",
    "print(\"Data loaded\")\n",
    "planning.estimate_uncertainty_stats(model, dataloader, n_batches=50, npred=opt.npred)\n",
    "print(\"Uncertainty stats estimated\")\n",
    "model.eval()\n",
    "print(\"done\")"
   ]
  },
  {
   "cell_type": "markdown",
   "id": "1c38c1e4-0965-4832-bab1-f25d1e46c4c4",
   "metadata": {
    "pycharm": {
     "name": "#%% md\n"
    }
   },
   "source": [
    "### Train step"
   ]
  },
  {
   "cell_type": "code",
   "execution_count": 13,
   "id": "17de48f0-6e52-440a-b2a7-e2d5c1247312",
   "metadata": {
    "pycharm": {
     "name": "#%%\n"
    }
   },
   "outputs": [],
   "source": [
    "opt.npred = 30\n",
    "if opt.goal_rollout_len == -1:\n",
    "    opt.goal_rollout_len = opt.npred"
   ]
  },
  {
   "cell_type": "code",
   "execution_count": 14,
   "id": "6d097734-1945-46b1-a1a2-32190acf54a2",
   "metadata": {
    "pycharm": {
     "name": "#%%\n"
    }
   },
   "outputs": [],
   "source": [
    "# inputs, actions, targets, ids, car_sizes = dataloader.get_batch_fm(\"train\", opt.npred)"
   ]
  },
  {
   "cell_type": "markdown",
   "id": "afe26726-da4b-4a85-a03f-99200d081d32",
   "metadata": {
    "pycharm": {
     "name": "#%% md\n"
    }
   },
   "source": [
    "inputs[0] - input images - B x Cond x C x H x W\n",
    "\n",
    "inputs[1] - states - B x Cond x 4\n",
    "\n",
    "inputs[2] - ego image - B x C x H x W\n",
    "\n",
    "actions - B x Pred x 2\n",
    "\n",
    "targets[0] - input images - B x Pred x C x H x W\n",
    "\n",
    "targets[1] - states - B x Pred x 4\n",
    "\n",
    "targets[2] - actions - B x Pred x 2\n",
    "\n",
    "len(ids) - B - car pickles\n",
    "\n",
    "car_sizes - B x 2 - for each batch"
   ]
  },
  {
   "cell_type": "code",
   "execution_count": 30,
   "id": "ea56284a-67c9-45f8-a189-49d8f4477cbd",
   "metadata": {
    "tags": [],
    "pycharm": {
     "name": "#%%\n"
    }
   },
   "outputs": [
    {
     "name": "stderr",
     "output_type": "stream",
     "text": [
      "100%|█████████████████████████████████████████████████████████████████████████████████████████████████████████████████████████████████████████████████████████████████████████████████████████████████████████████████████████████████████████| 500/500 [07:12<00:00,  1.15it/s]"
     ]
    },
    {
     "name": "stdout",
     "output_type": "stream",
     "text": [
      "Means == Proximity: 0.10893657 Lane: 0.21554056 Goal: 0.042373955\n",
      "Std == Proximity: 0.045732547 Lane: 0.054166045 Goal: 0.009344624\n"
     ]
    },
    {
     "name": "stderr",
     "output_type": "stream",
     "text": [
      "\n"
     ]
    }
   ],
   "source": [
    "def step(what, nbatches, npred):\n",
    "    train = True if what == \"train\" else False\n",
    "    model.train()\n",
    "    model.policy_net.train()\n",
    "    n_updates, grad_norm = 0, 0\n",
    "    total_losses = dict(\n",
    "        proximity=0,\n",
    "        uncertainty=0,\n",
    "        lane=0,\n",
    "        offroad=0,\n",
    "        action=0,\n",
    "        policy=0,\n",
    "        goal=0,\n",
    "    )\n",
    "    proximity_losses = []\n",
    "    lane_losses = []\n",
    "    goal_losses = []\n",
    "    for j in tqdm.tqdm(range(nbatches)):\n",
    "        inputs, actions, targets, ids, car_sizes = dataloader.get_batch_fm(what, npred)\n",
    "        pred, actions = planning.train_policy_net_mpur(\n",
    "            model,\n",
    "            inputs,\n",
    "            targets,\n",
    "            car_sizes,\n",
    "            goal_distance=opt.goal_distance,\n",
    "            n_models=10,\n",
    "            lrt_z=opt.lrt_z,\n",
    "            n_updates_z=opt.z_updates,\n",
    "            infer_z=opt.infer_z,\n",
    "        )\n",
    "        pred[\"policy\"] = (\n",
    "            pred[\"proximity\"]\n",
    "            + opt.u_reg * pred[\"uncertainty\"]\n",
    "            + opt.lambda_l * pred[\"lane\"]\n",
    "            + opt.lambda_a * pred[\"action\"]\n",
    "            + opt.lambda_o * pred[\"offroad\"]\n",
    "            + opt.lambda_g * pred[\"goal\"]  # add goal cost here\n",
    "        )\n",
    "        proximity_losses.append(pred[\"proximity\"].detach().cpu())\n",
    "        lane_losses.append(pred[\"lane\"].detach().cpu())\n",
    "        goal_losses.append(pred[\"goal\"].detach().cpu())\n",
    "\n",
    "        if not math.isnan(pred[\"policy\"].item()):\n",
    "            if train:\n",
    "                optimizer.zero_grad()\n",
    "                pred[\"policy\"].backward()  # back-propagation through time!\n",
    "                grad_norm += utils.grad_norm(model.policy_net).item()\n",
    "                torch.nn.utils.clip_grad_norm_(\n",
    "                    model.policy_net.parameters(), opt.grad_clip\n",
    "                )\n",
    "                optimizer.step()\n",
    "            for loss in total_losses:\n",
    "                total_losses[loss] += pred[loss].item()\n",
    "            n_updates += 1\n",
    "        else:\n",
    "            print(\"warning, NaN\")  # Oh no... Something got quite fucked up!\n",
    "            ipdb.set_trace()\n",
    "    proximity_losses = np.asarray(proximity_losses)\n",
    "    lane_losses = np.asarray(lane_losses)\n",
    "    goal_losses = np.asarray(goal_losses)\n",
    "    print(\"Means == Proximity:\", proximity_losses.mean(), \"Lane:\", lane_losses.mean() , \"Goal:\", goal_losses.mean())\n",
    "    print(\"Std == Proximity:\", proximity_losses.std(), \"Lane:\", lane_losses.std() , \"Goal:\", goal_losses.std())\n",
    "step(\"train\", opt.epoch_size, opt.npred)"
   ]
  },
  {
   "cell_type": "code",
   "execution_count": 20,
   "id": "a1dfb52f-d0c8-46dc-8552-dcefed92770b",
   "metadata": {
    "pycharm": {
     "name": "#%%\n"
    }
   },
   "outputs": [
    {
     "data": {
      "text/plain": [
       "0.6499999999999999"
      ]
     },
     "execution_count": 20,
     "metadata": {},
     "output_type": "execute_result"
    }
   ],
   "source": [
    "\n",
    "np.asarray([1,2.3]).std()"
   ]
  },
  {
   "cell_type": "code",
   "execution_count": null,
   "id": "4d7c16af-821b-49c3-9db8-36f9d863ec94",
   "metadata": {
    "pycharm": {
     "name": "#%%\n"
    }
   },
   "outputs": [],
   "source": []
  }
 ],
 "metadata": {
  "kernelspec": {
   "display_name": "Python 3 (ipykernel)",
   "language": "python",
   "name": "python3"
  },
  "language_info": {
   "codemirror_mode": {
    "name": "ipython",
    "version": 3
   },
   "file_extension": ".py",
   "mimetype": "text/x-python",
   "name": "python",
   "nbconvert_exporter": "python",
   "pygments_lexer": "ipython3",
   "version": "3.8.13"
  }
 },
 "nbformat": 4,
 "nbformat_minor": 5
}