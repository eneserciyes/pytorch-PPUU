{
 "cells": [
  {
   "cell_type": "code",
   "execution_count": 1,
   "id": "8e065c29",
   "metadata": {},
   "outputs": [],
   "source": [
    "import torch\n",
    "import matplotlib.pyplot as plt\n",
    "from plot_lib import set_default\n",
    "from utils import load_pickle_data\n",
    "set_default()"
   ]
  },
  {
   "cell_type": "code",
   "execution_count": 22,
   "id": "85ce6f89",
   "metadata": {},
   "outputs": [
    {
     "data": {
      "text/plain": [
       "False"
      ]
     },
     "execution_count": 22,
     "metadata": {},
     "output_type": "execute_result"
    },
    {
     "data": {
      "image/png": "[encoded data removed]",
      "text/plain": [
       "<Figure size 432x288 with 1 Axes>"
      ]
     },
     "metadata": {
      "needs_background": "dark"
     },
     "output_type": "display_data"
    }
   ],
   "source": [
    "def main(i=0):\n",
    "    # inputs, actions, targets, ids, sizes = load_pickle_data()\n",
    "    # input_images, input_states, ego_cars = inputs\n",
    "    # print(input_states[0,i])\n",
    "    \n",
    "    with open(\"tmp/calculated_proximity_masks.pth\", \"rb\") as f:\n",
    "        proximity_mask = torch.load(f,map_location=torch.device('cpu'))\n",
    "    plt.imshow(proximity_mask[0,i])\n",
    "    return proximity_mask[0,i]\n",
    "torch.equal(main(0), main(7))"
   ]
  },
  {
   "cell_type": "code",
   "execution_count": 21,
   "id": "9f4e1adc",
   "metadata": {},
   "outputs": [
    {
     "data": {
      "text/plain": [
       "True"
      ]
     },
     "execution_count": 21,
     "metadata": {},
     "output_type": "execute_result"
    },
    {
     "data": {
      "image/png": "[encoded data removed]",
      "text/plain": [
       "<Figure size 432x288 with 1 Axes>"
      ]
     },
     "metadata": {
      "needs_background": "dark"
     },
     "output_type": "display_data"
    }
   ],
   "source": [
    "def main(i=0):\n",
    "    # inputs, actions, targets, ids, sizes = load_pickle_data()\n",
    "    # input_images, input_states, ego_cars = inputs\n",
    "    # print(input_states[0,i])\n",
    "    \n",
    "    with open(\"tmp/lane_mask.pth\", \"rb\") as f:\n",
    "        lane_proximity_mask = torch.load(f,map_location=torch.device('cpu'))\n",
    "    plt.imshow(lane_proximity_mask[0,i])\n",
    "    return lane_proximity_mask[0,i]\n",
    "torch.equal(main(0), main(7))"
   ]
  },
  {
   "cell_type": "code",
   "execution_count": null,
   "id": "5a4b2d32",
   "metadata": {},
   "outputs": [],
   "source": []
  }
 ],
 "metadata": {
  "kernelspec": {
   "display_name": "Python 3 (ipykernel)",
   "language": "python",
   "name": "python3"
  },
  "language_info": {
   "codemirror_mode": {
    "name": "ipython",
    "version": 3
   },
   "file_extension": ".py",
   "mimetype": "text/x-python",
   "name": "python",
   "nbconvert_exporter": "python",
   "pygments_lexer": "ipython3",
   "version": "3.8.13"
  }
 },
 "nbformat": 4,
 "nbformat_minor": 5
}
